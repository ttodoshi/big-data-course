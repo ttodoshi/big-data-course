{
 "cells": [
  {
   "cell_type": "code",
   "execution_count": 1,
   "id": "3b01ee18",
   "metadata": {},
   "outputs": [],
   "source": [
    "import numpy as np\n",
    "from scipy import stats\n",
    "\n",
    "incomes_1 = np.random.normal(27000, 15000, 10000)\n",
    "incomes_2 = np.append(incomes_1, [100000000, 99999999])"
   ]
  },
  {
   "cell_type": "code",
   "execution_count": 2,
   "id": "d1febbf2",
   "metadata": {},
   "outputs": [
    {
     "name": "stdout",
     "output_type": "stream",
     "text": [
      "27028.367171480644\n",
      "47018.96327882488\n"
     ]
    }
   ],
   "source": [
    "print(np.mean(incomes_1))\n",
    "print(np.mean(incomes_2))"
   ]
  },
  {
   "cell_type": "code",
   "execution_count": 3,
   "id": "44f527c6",
   "metadata": {},
   "outputs": [
    {
     "name": "stdout",
     "output_type": "stream",
     "text": [
      "26803.190740492675\n",
      "26805.58474220347\n"
     ]
    }
   ],
   "source": [
    "print(np.median(incomes_1))\n",
    "print(np.median(incomes_2))"
   ]
  },
  {
   "cell_type": "code",
   "execution_count": 8,
   "id": "24aeda22",
   "metadata": {},
   "outputs": [
    {
     "name": "stdout",
     "output_type": "stream",
     "text": [
      "ModeResult(mode=-28975.336194984397, count=1)\n",
      "ModeResult(mode=array([-28975.33619498]), count=array([1]))\n"
     ]
    }
   ],
   "source": [
    "print(stats.mode(incomes_1, keepdims=True))\n",
    "print(stats.mode(incomes_2, keepdims=True))"
   ]
  },
  {
   "cell_type": "code",
   "execution_count": null,
   "id": "8fc146d7",
   "metadata": {},
   "outputs": [],
   "source": []
  }
 ],
 "metadata": {
  "kernelspec": {
   "display_name": "Python 3 (ipykernel)",
   "language": "python",
   "name": "python3"
  },
  "language_info": {
   "codemirror_mode": {
    "name": "ipython",
    "version": 3
   },
   "file_extension": ".py",
   "mimetype": "text/x-python",
   "name": "python",
   "nbconvert_exporter": "python",
   "pygments_lexer": "ipython3",
   "version": "3.9.13"
  }
 },
 "nbformat": 4,
 "nbformat_minor": 5
}
