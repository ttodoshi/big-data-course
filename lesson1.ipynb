{
 "cells": [
  {
   "cell_type": "markdown",
   "id": "66330173",
   "metadata": {},
   "source": [
    "# Числа"
   ]
  },
  {
   "cell_type": "code",
   "execution_count": 1,
   "id": "864483f4",
   "metadata": {},
   "outputs": [
    {
     "name": "stdout",
     "output_type": "stream",
     "text": [
      "12\n",
      "13\n",
      "25\n"
     ]
    }
   ],
   "source": [
    "a = int(input())\n",
    "b = int(input())\n",
    "print(a + b)"
   ]
  },
  {
   "cell_type": "markdown",
   "id": "d462bf7c",
   "metadata": {},
   "source": [
    "# Строки"
   ]
  },
  {
   "cell_type": "code",
   "execution_count": 4,
   "id": "255585ea",
   "metadata": {},
   "outputs": [
    {
     "name": "stdout",
     "output_type": "stream",
     "text": [
      "Hello!\n"
     ]
    }
   ],
   "source": [
    "c = 'Hello world'\n",
    "print(c[:5]+'!')"
   ]
  },
  {
   "cell_type": "markdown",
   "id": "80528120",
   "metadata": {},
   "source": [
    "# Условия"
   ]
  },
  {
   "cell_type": "code",
   "execution_count": 6,
   "id": "0533f1c9",
   "metadata": {},
   "outputs": [
    {
     "name": "stdout",
     "output_type": "stream",
     "text": [
      "6\n",
      ">5\n"
     ]
    }
   ],
   "source": [
    "d = int(input())\n",
    "if d <= 5:\n",
    "    print('<=5')\n",
    "else:\n",
    "    print('>5')"
   ]
  },
  {
   "cell_type": "markdown",
   "id": "b40d0f30",
   "metadata": {},
   "source": [
    "# Функции, списки и циклы"
   ]
  },
  {
   "cell_type": "code",
   "execution_count": 7,
   "id": "bfadc3e0",
   "metadata": {},
   "outputs": [
    {
     "data": {
      "text/plain": [
       "[0, 1, 2, 3]"
      ]
     },
     "execution_count": 7,
     "metadata": {},
     "output_type": "execute_result"
    }
   ],
   "source": [
    "def print_array(num: int):\n",
    "    e = []\n",
    "    for i in range(num):\n",
    "        e.append(i)\n",
    "    return e\n",
    "print_array(4)"
   ]
  },
  {
   "cell_type": "code",
   "execution_count": null,
   "id": "7b73ed6f",
   "metadata": {},
   "outputs": [],
   "source": []
  }
 ],
 "metadata": {
  "kernelspec": {
   "display_name": "Python 3 (ipykernel)",
   "language": "python",
   "name": "python3"
  },
  "language_info": {
   "codemirror_mode": {
    "name": "ipython",
    "version": 3
   },
   "file_extension": ".py",
   "mimetype": "text/x-python",
   "name": "python",
   "nbconvert_exporter": "python",
   "pygments_lexer": "ipython3",
   "version": "3.9.13"
  }
 },
 "nbformat": 4,
 "nbformat_minor": 5
}
