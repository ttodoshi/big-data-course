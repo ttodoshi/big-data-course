{
 "cells": [
  {
   "cell_type": "code",
   "execution_count": 1,
   "id": "144c7194",
   "metadata": {},
   "outputs": [
    {
     "name": "stdout",
     "output_type": "stream",
     "text": [
      "[1 2 3]\n",
      "[0.1 0.2 0.3]\n",
      "['a' 'b' 'c']\n"
     ]
    }
   ],
   "source": [
    "import numpy as np\n",
    "a = [1, 2, 3]\n",
    "b = [0.1, 0.2, 0.3]\n",
    "c = ['a', 'b', 'c']\n",
    "print(np.array(a))\n",
    "print(np.array(b))\n",
    "print(np.array(c))"
   ]
  },
  {
   "cell_type": "code",
   "execution_count": null,
   "id": "f7e7ad3e",
   "metadata": {},
   "outputs": [],
   "source": []
  }
 ],
 "metadata": {
  "kernelspec": {
   "display_name": "Python 3 (ipykernel)",
   "language": "python",
   "name": "python3"
  },
  "language_info": {
   "codemirror_mode": {
    "name": "ipython",
    "version": 3
   },
   "file_extension": ".py",
   "mimetype": "text/x-python",
   "name": "python",
   "nbconvert_exporter": "python",
   "pygments_lexer": "ipython3",
   "version": "3.9.13"
  }
 },
 "nbformat": 4,
 "nbformat_minor": 5
}
