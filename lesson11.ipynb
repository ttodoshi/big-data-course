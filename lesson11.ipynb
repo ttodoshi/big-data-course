{
 "cells": [
  {
   "cell_type": "code",
   "execution_count": 5,
   "id": "58bb9104",
   "metadata": {},
   "outputs": [],
   "source": [
    "import numpy as np\n",
    "import pandas as pd\n",
    "from pandas import Series, DataFrame\n",
    "\n",
    "df = DataFrame(np.random.randn(25).reshape(5, 5))"
   ]
  },
  {
   "cell_type": "code",
   "execution_count": 6,
   "id": "fc2f4d93",
   "metadata": {},
   "outputs": [
    {
     "data": {
      "text/html": [
       "<div>\n",
       "<style scoped>\n",
       "    .dataframe tbody tr th:only-of-type {\n",
       "        vertical-align: middle;\n",
       "    }\n",
       "\n",
       "    .dataframe tbody tr th {\n",
       "        vertical-align: top;\n",
       "    }\n",
       "\n",
       "    .dataframe thead th {\n",
       "        text-align: right;\n",
       "    }\n",
       "</style>\n",
       "<table border=\"1\" class=\"dataframe\">\n",
       "  <thead>\n",
       "    <tr style=\"text-align: right;\">\n",
       "      <th></th>\n",
       "      <th>0</th>\n",
       "      <th>1</th>\n",
       "      <th>2</th>\n",
       "      <th>3</th>\n",
       "      <th>4</th>\n",
       "    </tr>\n",
       "  </thead>\n",
       "  <tbody>\n",
       "    <tr>\n",
       "      <th>0</th>\n",
       "      <td>-0.179807</td>\n",
       "      <td>-0.985673</td>\n",
       "      <td>-0.396145</td>\n",
       "      <td>0.331505</td>\n",
       "      <td>0.203006</td>\n",
       "    </tr>\n",
       "    <tr>\n",
       "      <th>1</th>\n",
       "      <td>-1.206945</td>\n",
       "      <td>1.876214</td>\n",
       "      <td>0.571089</td>\n",
       "      <td>-0.876941</td>\n",
       "      <td>0.652712</td>\n",
       "    </tr>\n",
       "    <tr>\n",
       "      <th>2</th>\n",
       "      <td>0.679187</td>\n",
       "      <td>-0.448856</td>\n",
       "      <td>0.997168</td>\n",
       "      <td>0.628437</td>\n",
       "      <td>-0.871653</td>\n",
       "    </tr>\n",
       "    <tr>\n",
       "      <th>3</th>\n",
       "      <td>1.433266</td>\n",
       "      <td>-0.853461</td>\n",
       "      <td>0.136924</td>\n",
       "      <td>-0.361149</td>\n",
       "      <td>0.117744</td>\n",
       "    </tr>\n",
       "    <tr>\n",
       "      <th>4</th>\n",
       "      <td>-0.824503</td>\n",
       "      <td>0.716870</td>\n",
       "      <td>0.808790</td>\n",
       "      <td>0.608333</td>\n",
       "      <td>0.109799</td>\n",
       "    </tr>\n",
       "  </tbody>\n",
       "</table>\n",
       "</div>"
      ],
      "text/plain": [
       "          0         1         2         3         4\n",
       "0 -0.179807 -0.985673 -0.396145  0.331505  0.203006\n",
       "1 -1.206945  1.876214  0.571089 -0.876941  0.652712\n",
       "2  0.679187 -0.448856  0.997168  0.628437 -0.871653\n",
       "3  1.433266 -0.853461  0.136924 -0.361149  0.117744\n",
       "4 -0.824503  0.716870  0.808790  0.608333  0.109799"
      ]
     },
     "execution_count": 6,
     "metadata": {},
     "output_type": "execute_result"
    }
   ],
   "source": [
    "df"
   ]
  },
  {
   "cell_type": "code",
   "execution_count": 7,
   "id": "9fbe42f3",
   "metadata": {},
   "outputs": [],
   "source": [
    "del df[4]"
   ]
  },
  {
   "cell_type": "code",
   "execution_count": 8,
   "id": "0a7d7cff",
   "metadata": {},
   "outputs": [
    {
     "data": {
      "text/html": [
       "<div>\n",
       "<style scoped>\n",
       "    .dataframe tbody tr th:only-of-type {\n",
       "        vertical-align: middle;\n",
       "    }\n",
       "\n",
       "    .dataframe tbody tr th {\n",
       "        vertical-align: top;\n",
       "    }\n",
       "\n",
       "    .dataframe thead th {\n",
       "        text-align: right;\n",
       "    }\n",
       "</style>\n",
       "<table border=\"1\" class=\"dataframe\">\n",
       "  <thead>\n",
       "    <tr style=\"text-align: right;\">\n",
       "      <th></th>\n",
       "      <th>0</th>\n",
       "      <th>1</th>\n",
       "      <th>2</th>\n",
       "      <th>3</th>\n",
       "    </tr>\n",
       "  </thead>\n",
       "  <tbody>\n",
       "    <tr>\n",
       "      <th>0</th>\n",
       "      <td>-0.179807</td>\n",
       "      <td>-0.985673</td>\n",
       "      <td>-0.396145</td>\n",
       "      <td>0.331505</td>\n",
       "    </tr>\n",
       "    <tr>\n",
       "      <th>1</th>\n",
       "      <td>-1.206945</td>\n",
       "      <td>1.876214</td>\n",
       "      <td>0.571089</td>\n",
       "      <td>-0.876941</td>\n",
       "    </tr>\n",
       "    <tr>\n",
       "      <th>2</th>\n",
       "      <td>0.679187</td>\n",
       "      <td>-0.448856</td>\n",
       "      <td>0.997168</td>\n",
       "      <td>0.628437</td>\n",
       "    </tr>\n",
       "    <tr>\n",
       "      <th>3</th>\n",
       "      <td>1.433266</td>\n",
       "      <td>-0.853461</td>\n",
       "      <td>0.136924</td>\n",
       "      <td>-0.361149</td>\n",
       "    </tr>\n",
       "    <tr>\n",
       "      <th>4</th>\n",
       "      <td>-0.824503</td>\n",
       "      <td>0.716870</td>\n",
       "      <td>0.808790</td>\n",
       "      <td>0.608333</td>\n",
       "    </tr>\n",
       "  </tbody>\n",
       "</table>\n",
       "</div>"
      ],
      "text/plain": [
       "          0         1         2         3\n",
       "0 -0.179807 -0.985673 -0.396145  0.331505\n",
       "1 -1.206945  1.876214  0.571089 -0.876941\n",
       "2  0.679187 -0.448856  0.997168  0.628437\n",
       "3  1.433266 -0.853461  0.136924 -0.361149\n",
       "4 -0.824503  0.716870  0.808790  0.608333"
      ]
     },
     "execution_count": 8,
     "metadata": {},
     "output_type": "execute_result"
    }
   ],
   "source": [
    "df"
   ]
  },
  {
   "cell_type": "code",
   "execution_count": null,
   "id": "c829e664",
   "metadata": {},
   "outputs": [],
   "source": []
  }
 ],
 "metadata": {
  "kernelspec": {
   "display_name": "Python 3 (ipykernel)",
   "language": "python",
   "name": "python3"
  },
  "language_info": {
   "codemirror_mode": {
    "name": "ipython",
    "version": 3
   },
   "file_extension": ".py",
   "mimetype": "text/x-python",
   "name": "python",
   "nbconvert_exporter": "python",
   "pygments_lexer": "ipython3",
   "version": "3.9.13"
  }
 },
 "nbformat": 4,
 "nbformat_minor": 5
}
